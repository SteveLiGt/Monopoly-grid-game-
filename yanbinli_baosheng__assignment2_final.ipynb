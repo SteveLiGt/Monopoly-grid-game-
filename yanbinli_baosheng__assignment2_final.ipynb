{
  "cells": [
    {
      "cell_type": "markdown",
      "id": "ae404b5d",
      "metadata": {
        "id": "ae404b5d"
      },
      "source": [
        "Libraries required: gym, numpy, matplotlib, random"
      ]
    },
    {
      "cell_type": "code",
      "execution_count": null,
      "id": "6492c1b7",
      "metadata": {
        "colab": {
          "base_uri": "https://localhost:8080/"
        },
        "id": "6492c1b7",
        "outputId": "d8cd56b5-8aeb-49d3-e426-3d5789bb57f2"
      },
      "outputs": [
        {
          "output_type": "stream",
          "name": "stdout",
          "text": [
            "Looking in indexes: https://pypi.org/simple, https://us-python.pkg.dev/colab-wheels/public/simple/\n",
            "Requirement already satisfied: gym in /usr/local/lib/python3.7/dist-packages (0.25.2)\n",
            "Requirement already satisfied: gym-notices>=0.0.4 in /usr/local/lib/python3.7/dist-packages (from gym) (0.0.8)\n",
            "Requirement already satisfied: numpy>=1.18.0 in /usr/local/lib/python3.7/dist-packages (from gym) (1.21.6)\n",
            "Requirement already satisfied: importlib-metadata>=4.8.0 in /usr/local/lib/python3.7/dist-packages (from gym) (4.13.0)\n",
            "Requirement already satisfied: cloudpickle>=1.2.0 in /usr/local/lib/python3.7/dist-packages (from gym) (1.5.0)\n",
            "Requirement already satisfied: typing-extensions>=3.6.4 in /usr/local/lib/python3.7/dist-packages (from importlib-metadata>=4.8.0->gym) (4.1.1)\n",
            "Requirement already satisfied: zipp>=0.5 in /usr/local/lib/python3.7/dist-packages (from importlib-metadata>=4.8.0->gym) (3.10.0)\n"
          ]
        }
      ],
      "source": [
        "!pip install gym"
      ]
    },
    {
      "cell_type": "code",
      "execution_count": null,
      "id": "a294edd1",
      "metadata": {
        "id": "a294edd1"
      },
      "outputs": [],
      "source": [
        "import numpy as np\n",
        "import gym\n",
        "from gym import spaces\n",
        "import matplotlib.pyplot as plt\n",
        "import random\n",
        "#import time"
      ]
    },
    {
      "cell_type": "code",
      "execution_count": null,
      "id": "098f6ddb",
      "metadata": {
        "colab": {
          "base_uri": "https://localhost:8080/"
        },
        "id": "098f6ddb",
        "outputId": "352f0a68-e44e-4c83-b8ef-55e18a710884"
      },
      "outputs": [
        {
          "output_type": "stream",
          "name": "stdout",
          "text": [
            "[[0. 0. 0. 0.]\n",
            " [0. 0. 0. 0.]\n",
            " [0. 0. 0. 0.]\n",
            " [0. 0. 0. 0.]]\n"
          ]
        }
      ],
      "source": [
        "grid = np.zeros((4, 4)) #this is how you define a 3x3 grid\n",
        "print(grid)"
      ]
    },
    {
      "cell_type": "code",
      "execution_count": null,
      "id": "3a6a987b",
      "metadata": {
        "colab": {
          "base_uri": "https://localhost:8080/",
          "height": 359
        },
        "id": "3a6a987b",
        "outputId": "4fb2c489-6f04-48b3-8a23-c6ebb1c6ac70"
      },
      "outputs": [
        {
          "output_type": "stream",
          "name": "stdout",
          "text": [
            "[[0.8 0.  0.  0. ]\n",
            " [0.  0.  0.  0. ]\n",
            " [0.  0.  0.  0. ]\n",
            " [0.  0.  0.  0.6]]\n"
          ]
        },
        {
          "output_type": "execute_result",
          "data": {
            "text/plain": [
              "<matplotlib.image.AxesImage at 0x7fd984a68a10>"
            ]
          },
          "metadata": {},
          "execution_count": 40
        },
        {
          "output_type": "display_data",
          "data": {
            "text/plain": [
              "<Figure size 432x288 with 1 Axes>"
            ],
            "image/png": "[encoded data removed]"
          },
          "metadata": {
            "needs_background": "light"
          }
        }
      ],
      "source": [
        "#@title 默认标题文本\n",
        "pos1 = [0, 0] #start position of our agent\n",
        "pos2 = [3, 3] #goal position of our agent\n",
        "grid[tuple(pos1)] = 0.8\n",
        "grid[tuple(pos2)] = 0.6\n",
        "\n",
        "print(grid)\n",
        "plt.imshow(grid)"
      ]
    },
    {
      "cell_type": "code",
      "execution_count": null,
      "id": "e6c0b562",
      "metadata": {
        "id": "e6c0b562"
      },
      "outputs": [],
      "source": [
        "class GridEnvironment(gym.Env):\n",
        "    \n",
        "    def __init__(self):\n",
        "        self.observation_space = spaces.Discrete(16) # total space\n",
        "        self.action_space = spaces.Discrete(4) # 4 possible actions\n",
        "        self.max_timesteps = 20 # what is it? \n",
        "        \n",
        "    def reset(self):\n",
        "        self.timestep = 0\n",
        "        self.agent_pos = [0,0]\n",
        "        self.goal_pos = [3,3]\n",
        "        # set up the reward position\n",
        "        self.reward1 = [0,2] \n",
        "        self.reward2 = [2,1]\n",
        "        self.reward3 = [2,3]\n",
        "        self.reward4 = [3,0]\n",
        "        \n",
        "        self.state = np.zeros((4,4))\n",
        "        self.state[tuple(self.agent_pos)] = 1 # color change\n",
        "        self.state[tuple(self.goal_pos)] = 0.5 # set up for sate[3,3] = 0.5\n",
        "        observation = self.state.flatten() # return states as single array \n",
        "        return observation\n",
        "    \n",
        "    def step(self, action):\n",
        "        # four actions, no need to change\n",
        "        \n",
        "        actions = \"\"\n",
        "\n",
        "        if action ==0: #down\n",
        "            self.agent_pos[0] +=1  #[0,1]->[1,1]\n",
        "            actions = \"down\"\n",
        "        if action ==1: #up\n",
        "            self.agent_pos[0] -=1  #[1,1]->[0,1]\n",
        "            actions = \"up\"\n",
        "        if action ==2: #right\n",
        "            self.agent_pos[1] +=1\n",
        "            actions = \"right\"\n",
        "        if action ==3: #left\n",
        "            self.agent_pos[1] -=1\n",
        "            actions = \"left\"    \n",
        "        # set up addional update\n",
        "        \n",
        "        self.agent_pos = np.clip(self.agent_pos, 0, 3)  # set max move space\n",
        "        self.state = np.zeros((4,4))\n",
        "        self.state[tuple(self.agent_pos)] = 1\n",
        "        self.state[tuple(self.goal_pos)] = 0.5\n",
        "        observation = self.state.flatten()\n",
        "        \n",
        "        reward = 0\n",
        "        if (self.agent_pos == self.goal_pos).all():\n",
        "            reward = 20\n",
        "        elif (self.agent_pos == self.reward1).all():\n",
        "            reward = -7\n",
        "        elif (self.agent_pos == self.reward2).all():\n",
        "            reward = -8\n",
        "        elif (self.agent_pos == self.reward3).all():\n",
        "            reward = 10\n",
        "        elif (self.agent_pos == self.reward4).all():\n",
        "            reward = 9\n",
        "        \n",
        "        # update the timestep\n",
        "        self.timestep += 1\n",
        "        done = True if self.timestep>= self.max_timesteps else False\n",
        "        info = {}\n",
        "        \n",
        "        return observation, actions, reward, done, info\n",
        "    \n",
        "    \n",
        "    def render(self):\n",
        "        plt.imshow(self.state)"
      ]
    },
    {
      "cell_type": "code",
      "source": [
        "def choose_action(epsilon: float, env: GridEnvironment, q_table, current_obs: int):\n",
        "    action = 0\n",
        "  # case 1: choose exploration\n",
        "  # choose random action\n",
        "    if np.random.uniform(0, 1) < epsilon:\n",
        "            action = np.random.choice(env.action_space.n)\n",
        "    \n",
        "    else:\n",
        "            current_state = obseration_to_state(current_obs)\n",
        "            action = np.argmax(q_table[current_state])\n",
        "    \n",
        "    return action"
      ],
      "metadata": {
        "id": "lMd1zqtMmmw-"
      },
      "id": "lMd1zqtMmmw-",
      "execution_count": null,
      "outputs": []
    },
    {
      "cell_type": "code",
      "source": [
        "def obseration_to_state(obs):\n",
        "    # we use 1 to repsent current states\n",
        "    # and 0.5 is our goal, but they will collapose\n",
        "    n = 0\n",
        "    for i in obs:\n",
        "        if i == 1 or i == 0.5:\n",
        "            return n\n",
        "        n += 1"
      ],
      "metadata": {
        "id": "2qQPhZegmntU"
      },
      "id": "2qQPhZegmntU",
      "execution_count": null,
      "outputs": []
    },
    {
      "cell_type": "code",
      "source": [
        "# import time\n",
        "def SARSA(step_size: int, epsilon_greedy: float):\n",
        "    # initialize Q(s, a)\n",
        "    s_table = np.zeros((16, 4))\n",
        "    env = GridEnvironment()\n",
        "\n",
        "    # set up the number of episodes\n",
        "    num_episcodes = 100\n",
        "    epsilon = epsilon_greedy\n",
        "    alpha = step_size\n",
        "    gamma = 0.9\n",
        "    total_reward = 0\n",
        "\n",
        "    # plot\n",
        "    s_y_eips = []\n",
        "    s_y_time_steps = []\n",
        "\n",
        "    goal_state = \"[0.  0.  0.  0.  0.  0.  0.  0.  0.  0.  0.  0.  0.  0.  0.  0.5]\"\n",
        "    for episode in range(num_episcodes):\n",
        "        cur_obs = env.reset()\n",
        "        # total_reward = 0\n",
        "        # getting next action\n",
        "        if np.random.uniform(0, 1) < epsilon:\n",
        "            action = np.random.choice(env.action_space.n)\n",
        "    \n",
        "        else:\n",
        "            current_state = obseration_to_state(cur_obs)\n",
        "            action = np.argmax(q_table[current_state])\n",
        "            \n",
        "        while (1):\n",
        "            \n",
        "            next_obs, actions, reward, done, info = env.step(action)\n",
        "            total_reward += reward\n",
        "            if episode == 0:\n",
        "                s_y_time_steps.append(reward)\n",
        "\n",
        "            if done: \n",
        "                print(f'done, and our total reward would be {total_reward}\\n')\n",
        "                s_y_eips.append(total_reward)\n",
        "                break  \n",
        "            # getting next action\n",
        "            if np.random.uniform(0, 1) < epsilon:\n",
        "                next_action = np.random.choice(env.action_space.n)\n",
        "\n",
        "            else:\n",
        "                current_state = obseration_to_state(next_obs)\n",
        "                next_action = np.argmax(s_table[current_state])\n",
        "\n",
        "            # convert observation to state\n",
        "            previous_state = obseration_to_state(cur_obs)\n",
        "            next_state = obseration_to_state(next_obs)\n",
        "            # update q_table value\n",
        "            current_s = s_table[previous_state, action]\n",
        "            after = reward + gamma * s_table[next_state, next_action]\n",
        "            s_table[previous_state, action] = current_s + alpha * (after - current_s)\n",
        "            # update state for next iteration\n",
        "            cur_obs = next_obs\n",
        "            action = next_action\n",
        "\n",
        "\n",
        "         \n",
        "    return s_table, s_y_eips, s_y_time_steps\n",
        "\n",
        "\n"
      ],
      "metadata": {
        "id": "5Hd97-rVQWO8"
      },
      "id": "5Hd97-rVQWO8",
      "execution_count": null,
      "outputs": []
    },
    {
      "cell_type": "code",
      "source": [
        "s_table, y_s, y_s_time = SARSA(0.1, 0.1)\n",
        "print(s_table)\n",
        "import matplotlib.pyplot as plt\n",
        "# print(x)\n",
        "# print(\"====\")\n",
        "# print(y)\n",
        "x_s1 = [i for i in range(1, len(y_s_time) + 1)]\n",
        "plt.plot(x_s1, y_s_time)\n",
        "plt.xlabel('time steps')\n",
        "plt.ylabel('reward')\n",
        "plt.show()\n",
        "\n",
        "x_s2 = [i for i in range(1, len(y_s) + 1)]\n",
        "plt.plot(x_s2, y_s)\n",
        "plt.xlabel('number of episode')\n",
        "plt.ylabel('reward per episode')\n",
        "plt.show()"
      ],
      "metadata": {
        "colab": {
          "base_uri": "https://localhost:8080/",
          "height": 1000
        },
        "id": "OSvP9Gq7wMNd",
        "outputId": "84f81178-1ef9-46c8-c32c-85c00b83ed5f"
      },
      "id": "OSvP9Gq7wMNd",
      "execution_count": null,
      "outputs": [
        {
          "output_type": "stream",
          "name": "stdout",
          "text": [
            "done, and our total reward would be 144\n",
            "\n",
            "done, and our total reward would be 306\n",
            "\n",
            "done, and our total reward would be 468\n",
            "\n",
            "done, and our total reward would be 630\n",
            "\n",
            "done, and our total reward would be 792\n",
            "\n",
            "done, and our total reward would be 954\n",
            "\n",
            "done, and our total reward would be 1116\n",
            "\n",
            "done, and our total reward would be 1269\n",
            "\n",
            "done, and our total reward would be 1431\n",
            "\n",
            "done, and our total reward would be 1566\n",
            "\n",
            "done, and our total reward would be 1728\n",
            "\n",
            "done, and our total reward would be 1890\n",
            "\n",
            "done, and our total reward would be 2007\n",
            "\n",
            "done, and our total reward would be 2169\n",
            "\n",
            "done, and our total reward would be 2322\n",
            "\n",
            "done, and our total reward would be 2484\n",
            "\n",
            "done, and our total reward would be 2637\n",
            "\n",
            "done, and our total reward would be 2790\n",
            "\n",
            "done, and our total reward would be 2943\n",
            "\n",
            "done, and our total reward would be 3096\n",
            "\n",
            "done, and our total reward would be 3249\n",
            "\n",
            "done, and our total reward would be 3402\n",
            "\n",
            "done, and our total reward would be 3528\n",
            "\n",
            "done, and our total reward would be 3646\n",
            "\n",
            "done, and our total reward would be 3799\n",
            "\n",
            "done, and our total reward would be 3952\n",
            "\n",
            "done, and our total reward would be 4114\n",
            "\n",
            "done, and our total reward would be 4258\n",
            "\n",
            "done, and our total reward would be 4420\n",
            "\n",
            "done, and our total reward would be 4582\n",
            "\n",
            "done, and our total reward would be 4717\n",
            "\n",
            "done, and our total reward would be 4852\n",
            "\n",
            "done, and our total reward would be 5014\n",
            "\n",
            "done, and our total reward would be 5167\n",
            "\n",
            "done, and our total reward would be 5276\n",
            "\n",
            "done, and our total reward would be 5420\n",
            "\n",
            "done, and our total reward would be 5582\n",
            "\n",
            "done, and our total reward would be 5735\n",
            "\n",
            "done, and our total reward would be 5888\n",
            "\n",
            "done, and our total reward would be 6050\n",
            "\n",
            "done, and our total reward would be 6212\n",
            "\n",
            "done, and our total reward would be 6374\n",
            "\n",
            "done, and our total reward would be 6527\n",
            "\n",
            "done, and our total reward would be 6680\n",
            "\n",
            "done, and our total reward would be 6816\n",
            "\n",
            "done, and our total reward would be 6816\n",
            "\n",
            "done, and our total reward would be 6969\n",
            "\n",
            "done, and our total reward would be 7131\n",
            "\n",
            "done, and our total reward would be 7267\n",
            "\n",
            "done, and our total reward would be 7411\n",
            "\n",
            "done, and our total reward would be 7573\n",
            "\n",
            "done, and our total reward would be 7726\n",
            "\n",
            "done, and our total reward would be 7888\n",
            "\n",
            "done, and our total reward would be 8050\n",
            "\n",
            "done, and our total reward would be 8203\n",
            "\n",
            "done, and our total reward would be 8347\n",
            "\n",
            "done, and our total reward would be 8509\n",
            "\n",
            "done, and our total reward would be 8509\n",
            "\n",
            "done, and our total reward would be 8662\n",
            "\n",
            "done, and our total reward would be 8806\n",
            "\n",
            "done, and our total reward would be 8950\n",
            "\n",
            "done, and our total reward would be 9103\n",
            "\n",
            "done, and our total reward would be 9247\n",
            "\n",
            "done, and our total reward would be 9409\n",
            "\n",
            "done, and our total reward would be 9571\n",
            "\n",
            "done, and our total reward would be 9733\n",
            "\n",
            "done, and our total reward would be 9895\n",
            "\n",
            "done, and our total reward would be 10057\n",
            "\n",
            "done, and our total reward would be 10183\n",
            "\n",
            "done, and our total reward would be 10345\n",
            "\n",
            "done, and our total reward would be 10489\n",
            "\n",
            "done, and our total reward would be 10607\n",
            "\n",
            "done, and our total reward would be 10751\n",
            "\n",
            "done, and our total reward would be 10904\n",
            "\n",
            "done, and our total reward would be 11066\n",
            "\n",
            "done, and our total reward would be 11219\n",
            "\n",
            "done, and our total reward would be 11346\n",
            "\n",
            "done, and our total reward would be 11499\n",
            "\n",
            "done, and our total reward would be 11652\n",
            "\n",
            "done, and our total reward would be 11805\n",
            "\n",
            "done, and our total reward would be 11958\n",
            "\n",
            "done, and our total reward would be 12093\n",
            "\n",
            "done, and our total reward would be 12255\n",
            "\n",
            "done, and our total reward would be 12399\n",
            "\n",
            "done, and our total reward would be 12525\n",
            "\n",
            "done, and our total reward would be 12643\n",
            "\n",
            "done, and our total reward would be 12796\n",
            "\n",
            "done, and our total reward would be 12958\n",
            "\n",
            "done, and our total reward would be 13111\n",
            "\n",
            "done, and our total reward would be 13273\n",
            "\n",
            "done, and our total reward would be 13435\n",
            "\n",
            "done, and our total reward would be 13588\n",
            "\n",
            "done, and our total reward would be 13750\n",
            "\n",
            "done, and our total reward would be 13912\n",
            "\n",
            "done, and our total reward would be 14074\n",
            "\n",
            "done, and our total reward would be 14201\n",
            "\n",
            "done, and our total reward would be 14345\n",
            "\n",
            "done, and our total reward would be 14463\n",
            "\n",
            "done, and our total reward would be 14518\n",
            "\n",
            "done, and our total reward would be 14671\n",
            "\n",
            "[[47.53345013  1.22900571  0.          3.0597057 ]\n",
            " [ 0.          0.          0.          4.21027967]\n",
            " [ 0.          0.          0.          0.        ]\n",
            " [ 0.          0.          0.          0.        ]\n",
            " [52.51631706  1.72008699  0.         15.47790283]\n",
            " [-0.8         0.          0.          0.        ]\n",
            " [ 0.          0.          0.          0.        ]\n",
            " [ 0.          0.          0.          0.        ]\n",
            " [74.35121118  4.19876018  2.07589109 19.70379898]\n",
            " [31.90438865  0.          0.          0.        ]\n",
            " [ 0.          0.          0.          0.        ]\n",
            " [ 0.          0.          0.          0.        ]\n",
            " [74.66435368 48.44486182 40.59398277 62.74172645]\n",
            " [ 5.11182378  2.00800459  0.         68.94399409]\n",
            " [ 0.          0.          0.          0.        ]\n",
            " [ 0.          0.          0.          0.        ]]\n"
          ]
        },
        {
          "output_type": "display_data",
          "data": {
            "text/plain": [
              "<Figure size 432x288 with 1 Axes>"
            ],
            "image/png": "[encoded data removed]"
          },
          "metadata": {
            "needs_background": "light"
          }
        },
        {
          "output_type": "display_data",
          "data": {
            "text/plain": [
              "<Figure size 432x288 with 1 Axes>"
            ],
            "image/png": "[encoded data removed]"
          },
          "metadata": {
            "needs_background": "light"
          }
        }
      ]
    },
    {
      "cell_type": "code",
      "source": [
        "from numpy.random.mtrand import f\n",
        "def Q_learning(step_size, epsilon_greedy):\n",
        "    # initialize Q(s, a)\n",
        "    q_table = np.zeros((16, 4))\n",
        "    env = GridEnvironment()\n",
        "\n",
        "    # set up the number of episodes\n",
        "    num_episcodes = 100\n",
        "    epsilon = epsilon_greedy\n",
        "    alpha = step_size\n",
        "    gamma = 0.9\n",
        "\n",
        "    total_reward = 0\n",
        "\n",
        "    goal_state = \"[0.  0.  0.  0.  0.  0.  0.  0.  0.  0.  0.  0.  0.  0.  0.  0.5]\"\n",
        "\n",
        "    # plot\n",
        "    q_y_eips = []\n",
        "    q_y_time_steps = []\n",
        "\n",
        "    # loop for each episode\n",
        "    for episode in range(num_episcodes):\n",
        "\n",
        "        time_steps_ = []\n",
        "        obs1 = env.reset()\n",
        "        grid = obseration_to_state(obs1)\n",
        "        # total_reward = 0\n",
        "\n",
        "        while 1:\n",
        "            if np.random.uniform(0, 1) < epsilon:\n",
        "                action = env.action_space.sample() # Explore action space\n",
        "            else:\n",
        "                action = np.argmax(q_table[grid]) # Exploit learned values\n",
        "\n",
        "            obs2, actions, reward, done, info = env.step(action) \n",
        "            total_reward += reward\n",
        "            if episode == 0:\n",
        "                q_y_time_steps.append(reward)\n",
        "\n",
        "            if done:\n",
        "                print(f'done, and our total reward would be {total_reward}\\n')\n",
        "                q_y_eips.append(total_reward)\n",
        "                break\n",
        "            \n",
        "            old_value = q_table[grid, action] # I suppose we need a previous acionn to get to current state\n",
        "            next_grid = obseration_to_state(obs2)\n",
        "            next_action = np.max(q_table[next_grid])\n",
        "            \n",
        "            loss = alpha * (reward + gamma * next_action)\n",
        "            if next_grid == None:\n",
        "                break\n",
        "            new_value = (1 - alpha) * next_grid + loss # what does this line do?\n",
        "            q_table[grid, action] = new_value\n",
        "\n",
        "            grid = next_grid\n",
        "            \n",
        "\n",
        "    return q_table, q_y_eips, q_y_time_steps"
      ],
      "metadata": {
        "id": "OCblNKsaVxVe"
      },
      "id": "OCblNKsaVxVe",
      "execution_count": null,
      "outputs": []
    },
    {
      "cell_type": "code",
      "source": [
        "q_table, y_q, y_q_time = Q_learning(0.1, 0.1)\n",
        "print(q_table)\n",
        "import matplotlib.pyplot as plt\n",
        "# print(x)\n",
        "# print(\"====\")\n",
        "# print(y)\n",
        "x_q1 = [i for i in range(1, len(y_q_time) + 1)]\n",
        "plt.plot(x_q1, y_q_time, x_s1, y_s_time)\n",
        "plt.xlabel('time steps')\n",
        "plt.ylabel('reward')\n",
        "plt.show()\n",
        "\n",
        "x_q2 = [i for i in range(1, len(y_q) + 1)]\n",
        "plt.plot(x_q2, y_q, x_s2, y_s)\n",
        "plt.xlabel('number of episode')\n",
        "plt.ylabel('reward per episode')\n",
        "plt.show()"
      ],
      "metadata": {
        "colab": {
          "base_uri": "https://localhost:8080/",
          "height": 1000
        },
        "id": "vksP-LB1ueW7",
        "outputId": "765c1f31-d0df-48c9-a9d7-a2b83e2b6a96"
      },
      "id": "vksP-LB1ueW7",
      "execution_count": null,
      "outputs": [
        {
          "output_type": "stream",
          "name": "stdout",
          "text": [
            "done, and our total reward would be 153\n",
            "\n",
            "done, and our total reward would be 315\n",
            "\n",
            "done, and our total reward would be 396\n",
            "\n",
            "done, and our total reward would be 432\n",
            "\n",
            "done, and our total reward would be 585\n",
            "\n",
            "done, and our total reward would be 621\n",
            "\n",
            "done, and our total reward would be 783\n",
            "\n",
            "done, and our total reward would be 901\n",
            "\n",
            "done, and our total reward would be 983\n",
            "\n",
            "done, and our total reward would be 1001\n",
            "\n",
            "done, and our total reward would be 1082\n",
            "\n",
            "done, and our total reward would be 1251\n",
            "\n",
            "done, and our total reward would be 1550\n",
            "\n",
            "done, and our total reward would be 1839\n",
            "\n",
            "done, and our total reward would be 2118\n",
            "\n",
            "done, and our total reward would be 2427\n",
            "\n",
            "done, and our total reward would be 2716\n",
            "\n",
            "done, and our total reward would be 3025\n",
            "\n",
            "done, and our total reward would be 3334\n",
            "\n",
            "done, and our total reward would be 3643\n",
            "\n",
            "done, and our total reward would be 3941\n",
            "\n",
            "done, and our total reward would be 4210\n",
            "\n",
            "done, and our total reward would be 4472\n",
            "\n",
            "done, and our total reward would be 4771\n",
            "\n",
            "done, and our total reward would be 5050\n",
            "\n",
            "done, and our total reward would be 5297\n",
            "\n",
            "done, and our total reward would be 5549\n",
            "\n",
            "done, and our total reward would be 5818\n",
            "\n",
            "done, and our total reward would be 6107\n",
            "\n",
            "done, and our total reward would be 6376\n",
            "\n",
            "done, and our total reward would be 6675\n",
            "\n",
            "done, and our total reward would be 6974\n",
            "\n",
            "done, and our total reward would be 7263\n",
            "\n",
            "done, and our total reward would be 7552\n",
            "\n",
            "done, and our total reward would be 7861\n",
            "\n",
            "done, and our total reward would be 8093\n",
            "\n",
            "done, and our total reward would be 8392\n",
            "\n",
            "done, and our total reward would be 8701\n",
            "\n",
            "done, and our total reward would be 8993\n",
            "\n",
            "done, and our total reward would be 9272\n",
            "\n",
            "done, and our total reward would be 9571\n",
            "\n",
            "done, and our total reward would be 9840\n",
            "\n",
            "done, and our total reward would be 10091\n",
            "\n",
            "done, and our total reward would be 10349\n",
            "\n",
            "done, and our total reward would be 10618\n",
            "\n",
            "done, and our total reward would be 10927\n",
            "\n",
            "done, and our total reward would be 11226\n",
            "\n",
            "done, and our total reward would be 11535\n",
            "\n",
            "done, and our total reward would be 11803\n",
            "\n",
            "done, and our total reward would be 12082\n",
            "\n",
            "done, and our total reward would be 12391\n",
            "\n",
            "done, and our total reward would be 12700\n",
            "\n",
            "done, and our total reward would be 13009\n",
            "\n",
            "done, and our total reward would be 13318\n",
            "\n",
            "done, and our total reward would be 13587\n",
            "\n",
            "done, and our total reward would be 13886\n",
            "\n",
            "done, and our total reward would be 14175\n",
            "\n",
            "done, and our total reward would be 14444\n",
            "\n",
            "done, and our total reward would be 14733\n",
            "\n",
            "done, and our total reward would be 15042\n",
            "\n",
            "done, and our total reward would be 15283\n",
            "\n",
            "done, and our total reward would be 15592\n",
            "\n",
            "done, and our total reward would be 15901\n",
            "\n",
            "done, and our total reward would be 16210\n",
            "\n",
            "done, and our total reward would be 16499\n",
            "\n",
            "done, and our total reward would be 16788\n",
            "\n",
            "done, and our total reward would be 17017\n",
            "\n",
            "done, and our total reward would be 17241\n",
            "\n",
            "done, and our total reward would be 17550\n",
            "\n",
            "done, and our total reward would be 17839\n",
            "\n",
            "done, and our total reward would be 18148\n",
            "\n",
            "done, and our total reward would be 18457\n",
            "\n",
            "done, and our total reward would be 18766\n",
            "\n",
            "done, and our total reward would be 19064\n",
            "\n",
            "done, and our total reward would be 19373\n",
            "\n",
            "done, and our total reward would be 19672\n",
            "\n",
            "done, and our total reward would be 19981\n",
            "\n",
            "done, and our total reward would be 20233\n",
            "\n",
            "done, and our total reward would be 20512\n",
            "\n",
            "done, and our total reward would be 20801\n",
            "\n",
            "done, and our total reward would be 21110\n",
            "\n",
            "done, and our total reward would be 21379\n",
            "\n",
            "done, and our total reward would be 21627\n",
            "\n",
            "done, and our total reward would be 21936\n",
            "\n",
            "done, and our total reward would be 22225\n",
            "\n",
            "done, and our total reward would be 22534\n",
            "\n",
            "done, and our total reward would be 22792\n",
            "\n",
            "done, and our total reward would be 23101\n",
            "\n",
            "done, and our total reward would be 23400\n",
            "\n",
            "done, and our total reward would be 23699\n",
            "\n",
            "done, and our total reward would be 24008\n",
            "\n",
            "done, and our total reward would be 24317\n",
            "\n",
            "done, and our total reward would be 24616\n",
            "\n",
            "done, and our total reward would be 24925\n",
            "\n",
            "done, and our total reward would be 25234\n",
            "\n",
            "done, and our total reward would be 25492\n",
            "\n",
            "done, and our total reward would be 25781\n",
            "\n",
            "done, and our total reward would be 26070\n",
            "\n",
            "done, and our total reward would be 26319\n",
            "\n",
            "done, and our total reward would be 26608\n",
            "\n",
            "[[ 4.35222656  0.39170039  1.37358656  0.39170039]\n",
            " [ 5.26207293  0.          0.          0.        ]\n",
            " [ 0.          0.          0.          0.        ]\n",
            " [ 0.          0.          0.          0.        ]\n",
            " [ 8.35807293  0.39170039  5.26114286  4.35222656]\n",
            " [ 8.46747703  0.          0.          0.        ]\n",
            " [ 0.          0.          0.          0.        ]\n",
            " [ 0.          0.          0.          0.        ]\n",
            " [12.86747703  0.          8.46747703  0.        ]\n",
            " [12.97196703  0.         10.27196703  0.        ]\n",
            " [14.13296703  0.          0.          8.46747703]\n",
            " [17.03296703  0.          0.          0.        ]\n",
            " [12.86747703  8.35807293 12.97196703 12.86747703]\n",
            " [12.97196703  8.46747703 14.13296703 12.86747703]\n",
            " [13.84615385 10.27196703 17.03296703 12.97196703]\n",
            " [17.03296703 12.43296703 17.03296703 14.13296703]]\n"
          ]
        },
        {
          "output_type": "display_data",
          "data": {
            "text/plain": [
              "<Figure size 432x288 with 1 Axes>"
            ],
            "image/png": "[encoded data removed]"
          },
          "metadata": {
            "needs_background": "light"
          }
        },
        {
          "output_type": "display_data",
          "data": {
            "text/plain": [
              "<Figure size 432x288 with 1 Axes>"
            ],
            "image/png": "[encoded data removed]"
          },
          "metadata": {
            "needs_background": "light"
          }
        }
      ]
    },
    {
      "cell_type": "code",
      "execution_count": null,
      "id": "a93b72e2",
      "metadata": {
        "id": "a93b72e2",
        "colab": {
          "base_uri": "https://localhost:8080/",
          "height": 269
        },
        "outputId": "a19d504b-74fe-4074-ba91-a78540966de7"
      },
      "outputs": [
        {
          "output_type": "display_data",
          "data": {
            "text/plain": [
              "<Figure size 432x288 with 1 Axes>"
            ],
            "image/png": "[encoded data removed]"
          },
          "metadata": {
            "needs_background": "light"
          }
        }
      ],
      "source": [
        "env = GridEnvironment()\n",
        "obs = env.reset()\n",
        "env.render()"
      ]
    },
    {
      "cell_type": "code",
      "execution_count": null,
      "id": "e5ab72e7",
      "metadata": {
        "id": "e5ab72e7",
        "colab": {
          "base_uri": "https://localhost:8080/",
          "height": 323
        },
        "outputId": "f7c9c90f-ef46-49d6-e532-61a285ef3db8"
      },
      "outputs": [
        {
          "output_type": "stream",
          "name": "stdout",
          "text": [
            "[0.  1.  0.  0.  0.  0.  0.  0.  0.  0.  0.  0.  0.  0.  0.  0.5]\n",
            "right\n",
            "0\n"
          ]
        },
        {
          "output_type": "display_data",
          "data": {
            "text/plain": [
              "<Figure size 432x288 with 1 Axes>"
            ],
            "image/png": "[encoded data removed]"
          },
          "metadata": {
            "needs_background": "light"
          }
        }
      ],
      "source": [
        "action = 2\n",
        "observation, actions, reward, done, info = env.step(action)\n",
        "print(observation)\n",
        "print(actions)\n",
        "print(reward)\n",
        "env.render()"
      ]
    },
    {
      "cell_type": "code",
      "execution_count": null,
      "metadata": {
        "id": "P0chqdDgNq8c",
        "colab": {
          "base_uri": "https://localhost:8080/",
          "height": 323
        },
        "outputId": "c344588c-9aa1-4526-f447-c8b0f04a2ddd"
      },
      "outputs": [
        {
          "output_type": "stream",
          "name": "stdout",
          "text": [
            "[0.  0.  0.  0.  0.  1.  0.  0.  0.  0.  0.  0.  0.  0.  0.  0.5]\n",
            "down\n",
            "0\n"
          ]
        },
        {
          "output_type": "display_data",
          "data": {
            "text/plain": [
              "<Figure size 432x288 with 1 Axes>"
            ],
            "image/png": "[encoded data removed]"
          },
          "metadata": {
            "needs_background": "light"
          }
        }
      ],
      "source": [
        "action = 0\n",
        "observation, actions, reward, done, info = env.step(action)\n",
        "print(observation)\n",
        "print(actions)\n",
        "print(reward)\n",
        "env.render()"
      ],
      "id": "P0chqdDgNq8c"
    },
    {
      "cell_type": "code",
      "execution_count": null,
      "metadata": {
        "id": "aQPb4d_vNra5",
        "colab": {
          "base_uri": "https://localhost:8080/",
          "height": 341
        },
        "outputId": "333a66dc-ab8c-4b32-8f8f-ea7ec4623c25"
      },
      "outputs": [
        {
          "output_type": "stream",
          "name": "stdout",
          "text": [
            "5\n",
            "[0.  0.  0.  0.  1.  0.  0.  0.  0.  0.  0.  0.  0.  0.  0.  0.5]\n",
            "left\n",
            "0\n"
          ]
        },
        {
          "output_type": "display_data",
          "data": {
            "text/plain": [
              "<Figure size 432x288 with 1 Axes>"
            ],
            "image/png": "[encoded data removed]"
          },
          "metadata": {
            "needs_background": "light"
          }
        }
      ],
      "source": [
        "action = 3\n",
        "observation, actions, reward, done, info = env.step(action)\n",
        "n = 0\n",
        "for i in observation:\n",
        "  n += 1\n",
        "  if i == 1:\n",
        "    print(n)\n",
        "    break\n",
        "  \n",
        "print(observation)\n",
        "print(actions)\n",
        "print(reward)\n",
        "env.render()"
      ],
      "id": "aQPb4d_vNra5"
    },
    {
      "cell_type": "code",
      "execution_count": null,
      "metadata": {
        "id": "-zZrwXFvNrqu",
        "colab": {
          "base_uri": "https://localhost:8080/",
          "height": 323
        },
        "outputId": "65128e46-edec-4896-d413-d9192220e892"
      },
      "outputs": [
        {
          "output_type": "stream",
          "name": "stdout",
          "text": [
            "[0.  0.  0.  0.  0.  0.  0.  0.  1.  0.  0.  0.  0.  0.  0.  0.5]\n",
            "down\n",
            "0\n"
          ]
        },
        {
          "output_type": "display_data",
          "data": {
            "text/plain": [
              "<Figure size 432x288 with 1 Axes>"
            ],
            "image/png": "[encoded data removed]"
          },
          "metadata": {
            "needs_background": "light"
          }
        }
      ],
      "source": [
        "action = 0\n",
        "observation, actions, reward, done, info = env.step(action)\n",
        "print(observation)\n",
        "print(actions)\n",
        "print(reward)\n",
        "env.render()"
      ],
      "id": "-zZrwXFvNrqu"
    },
    {
      "cell_type": "code",
      "execution_count": null,
      "metadata": {
        "id": "I5Hcv26iN6Ni",
        "colab": {
          "base_uri": "https://localhost:8080/",
          "height": 323
        },
        "outputId": "17cab355-ef5c-462f-e933-0d835a072edf"
      },
      "outputs": [
        {
          "output_type": "stream",
          "name": "stdout",
          "text": [
            "[0.  0.  0.  0.  0.  0.  0.  0.  1.  0.  0.  0.  0.  0.  0.  0.5]\n",
            "left\n",
            "0\n"
          ]
        },
        {
          "output_type": "display_data",
          "data": {
            "text/plain": [
              "<Figure size 432x288 with 1 Axes>"
            ],
            "image/png": "[encoded data removed]"
          },
          "metadata": {
            "needs_background": "light"
          }
        }
      ],
      "source": [
        "action = 3\n",
        "observation, actions, reward, done, info = env.step(action)\n",
        "print(observation)\n",
        "print(actions)\n",
        "print(reward)\n",
        "env.render()"
      ],
      "id": "I5Hcv26iN6Ni"
    },
    {
      "cell_type": "code",
      "execution_count": null,
      "metadata": {
        "id": "6-fEIyeLN6g0",
        "colab": {
          "base_uri": "https://localhost:8080/",
          "height": 323
        },
        "outputId": "f0821c87-670d-47a8-e3bb-6763085764d9"
      },
      "outputs": [
        {
          "output_type": "stream",
          "name": "stdout",
          "text": [
            "[0.  0.  0.  0.  0.  0.  0.  0.  0.  0.  0.  0.  1.  0.  0.  0.5]\n",
            "down\n",
            "9\n"
          ]
        },
        {
          "output_type": "display_data",
          "data": {
            "text/plain": [
              "<Figure size 432x288 with 1 Axes>"
            ],
            "image/png": "[encoded data removed]"
          },
          "metadata": {
            "needs_background": "light"
          }
        }
      ],
      "source": [
        "action = 0\n",
        "observation, actions, reward, done, info = env.step(action)\n",
        "print(observation)\n",
        "print(actions)\n",
        "print(reward)\n",
        "env.render()"
      ],
      "id": "6-fEIyeLN6g0"
    },
    {
      "cell_type": "code",
      "execution_count": null,
      "metadata": {
        "id": "xDS0tJEKN60r",
        "colab": {
          "base_uri": "https://localhost:8080/",
          "height": 323
        },
        "outputId": "e2ccbf40-1262-4034-d1ad-04dcebc694b2"
      },
      "outputs": [
        {
          "output_type": "stream",
          "name": "stdout",
          "text": [
            "[0.  0.  0.  0.  0.  0.  0.  0.  0.  0.  0.  0.  0.  1.  0.  0.5]\n",
            "right\n",
            "0\n"
          ]
        },
        {
          "output_type": "display_data",
          "data": {
            "text/plain": [
              "<Figure size 432x288 with 1 Axes>"
            ],
            "image/png": "[encoded data removed]"
          },
          "metadata": {
            "needs_background": "light"
          }
        }
      ],
      "source": [
        "action = 2\n",
        "observation, actions, reward, done, info = env.step(action)\n",
        "print(observation)\n",
        "print(actions)\n",
        "print(reward)\n",
        "env.render()"
      ],
      "id": "xDS0tJEKN60r"
    },
    {
      "cell_type": "code",
      "execution_count": null,
      "metadata": {
        "id": "2u8ugzf0NxTx",
        "colab": {
          "base_uri": "https://localhost:8080/",
          "height": 323
        },
        "outputId": "64e4e830-bc58-426d-b423-1f0d1cf34163"
      },
      "outputs": [
        {
          "output_type": "stream",
          "name": "stdout",
          "text": [
            "[0.  0.  0.  0.  0.  0.  0.  0.  0.  0.  0.  0.  0.  0.  1.  0.5]\n",
            "right\n",
            "0\n"
          ]
        },
        {
          "output_type": "display_data",
          "data": {
            "text/plain": [
              "<Figure size 432x288 with 1 Axes>"
            ],
            "image/png": "[encoded data removed]"
          },
          "metadata": {
            "needs_background": "light"
          }
        }
      ],
      "source": [
        "action = 2\n",
        "observation, actions, reward, done, info = env.step(action)\n",
        "print(observation)\n",
        "print(actions)\n",
        "print(reward)\n",
        "env.render()"
      ],
      "id": "2u8ugzf0NxTx"
    },
    {
      "cell_type": "code",
      "execution_count": null,
      "metadata": {
        "id": "rGtLJAKCNxfC",
        "colab": {
          "base_uri": "https://localhost:8080/",
          "height": 323
        },
        "outputId": "c75f1b6c-3843-4132-bba9-3f26aab7c8f7"
      },
      "outputs": [
        {
          "output_type": "stream",
          "name": "stdout",
          "text": [
            "[0.  0.  0.  0.  0.  0.  0.  0.  0.  0.  1.  0.  0.  0.  0.  0.5]\n",
            "up\n",
            "0\n"
          ]
        },
        {
          "output_type": "display_data",
          "data": {
            "text/plain": [
              "<Figure size 432x288 with 1 Axes>"
            ],
            "image/png": "[encoded data removed]"
          },
          "metadata": {
            "needs_background": "light"
          }
        }
      ],
      "source": [
        "action = 1\n",
        "observation, actions, reward, done, info = env.step(action)\n",
        "print(observation)\n",
        "print(actions)\n",
        "print(reward)\n",
        "env.render()"
      ],
      "id": "rGtLJAKCNxfC"
    },
    {
      "cell_type": "code",
      "execution_count": null,
      "metadata": {
        "id": "62PnjiaINxpH",
        "colab": {
          "base_uri": "https://localhost:8080/",
          "height": 323
        },
        "outputId": "5b1c66e3-a35e-4b3e-cd2a-7f281a24c6e8"
      },
      "outputs": [
        {
          "output_type": "stream",
          "name": "stdout",
          "text": [
            "[0.  0.  0.  0.  0.  0.  0.  0.  0.  0.  0.  1.  0.  0.  0.  0.5]\n",
            "right\n",
            "10\n"
          ]
        },
        {
          "output_type": "display_data",
          "data": {
            "text/plain": [
              "<Figure size 432x288 with 1 Axes>"
            ],
            "image/png": "[encoded data removed]"
          },
          "metadata": {
            "needs_background": "light"
          }
        }
      ],
      "source": [
        "action = 2\n",
        "observation, actions, reward, done, info = env.step(action)\n",
        "print(observation)\n",
        "print(actions)\n",
        "print(reward)\n",
        "env.render()"
      ],
      "id": "62PnjiaINxpH"
    },
    {
      "cell_type": "code",
      "execution_count": null,
      "metadata": {
        "id": "6WOR5nQbNxvi",
        "colab": {
          "base_uri": "https://localhost:8080/",
          "height": 323
        },
        "outputId": "9ecf46e0-76f5-490a-978a-68a272eeabe2"
      },
      "outputs": [
        {
          "output_type": "stream",
          "name": "stdout",
          "text": [
            "[0.  0.  0.  0.  0.  0.  0.  0.  0.  0.  0.  0.  0.  0.  0.  0.5]\n",
            "down\n",
            "3\n"
          ]
        },
        {
          "output_type": "display_data",
          "data": {
            "text/plain": [
              "<Figure size 432x288 with 1 Axes>"
            ],
            "image/png": "[encoded data removed]"
          },
          "metadata": {
            "needs_background": "light"
          }
        }
      ],
      "source": [
        "action = 0\n",
        "observation, actions, reward, done, info = env.step(action)\n",
        "print(observation)\n",
        "print(actions)\n",
        "print(reward)\n",
        "env.render()"
      ],
      "id": "6WOR5nQbNxvi"
    },
    {
      "cell_type": "code",
      "execution_count": null,
      "id": "593ca1ed",
      "metadata": {
        "id": "593ca1ed",
        "outputId": "1376c137-ad11-4966-9a27-d0ce32ffaa00",
        "colab": {
          "base_uri": "https://localhost:8080/"
        }
      },
      "outputs": [
        {
          "output_type": "stream",
          "name": "stdout",
          "text": [
            "Reward: 3\n"
          ]
        }
      ],
      "source": [
        "print('Reward:', reward)"
      ]
    },
    {
      "cell_type": "markdown",
      "id": "61b317ea",
      "metadata": {
        "id": "61b317ea"
      },
      "source": [
        "## Random Agent"
      ]
    },
    {
      "cell_type": "code",
      "execution_count": null,
      "id": "c64ce207",
      "metadata": {
        "id": "c64ce207"
      },
      "outputs": [],
      "source": [
        "class RandomAgent:\n",
        "    '''Random Agent class that contains the contains the information of the agent that takes action randomly'''\n",
        "    def __init__(self, env):\n",
        "        self.env = env\n",
        "        self.observation_space = env.observation_space\n",
        "        self.action_space = env.action_space\n",
        "\n",
        "    def step(self, observation):\n",
        "        return np.random.choice(self.action_space.n)"
      ]
    },
    {
      "cell_type": "code",
      "execution_count": null,
      "id": "31baae77",
      "metadata": {
        "id": "31baae77",
        "outputId": "f4895719-b050-4467-afdd-835affa382ff",
        "colab": {
          "base_uri": "https://localhost:8080/",
          "height": 1000
        }
      },
      "outputs": [
        {
          "output_type": "stream",
          "name": "stdout",
          "text": [
            "Action 2\n",
            "Reward 0\n",
            "Done False\n",
            "\n",
            "Action 1\n",
            "Reward 0\n",
            "Done False\n",
            "\n",
            "Action 2\n",
            "Reward -7\n",
            "Done False\n",
            "\n",
            "Action 2\n",
            "Reward 0\n",
            "Done False\n",
            "\n",
            "Action 2\n",
            "Reward 0\n",
            "Done False\n",
            "\n",
            "Action 3\n",
            "Reward -7\n",
            "Done False\n",
            "\n",
            "Action 3\n",
            "Reward 0\n",
            "Done False\n",
            "\n",
            "Action 3\n",
            "Reward 0\n",
            "Done False\n",
            "\n",
            "Action 1\n",
            "Reward 0\n",
            "Done False\n",
            "\n",
            "Action 0\n",
            "Reward 0\n",
            "Done False\n",
            "\n",
            "Action 0\n",
            "Reward 0\n",
            "Done False\n",
            "\n",
            "Action 3\n",
            "Reward 0\n",
            "Done False\n",
            "\n",
            "Action 3\n",
            "Reward 0\n",
            "Done False\n",
            "\n",
            "Action 1\n",
            "Reward 0\n",
            "Done False\n",
            "\n",
            "Action 0\n",
            "Reward 0\n",
            "Done False\n",
            "\n",
            "Action 3\n",
            "Reward 0\n",
            "Done False\n",
            "\n",
            "Action 1\n",
            "Reward 0\n",
            "Done False\n",
            "\n",
            "Action 1\n",
            "Reward 0\n",
            "Done False\n",
            "\n",
            "Action 1\n",
            "Reward 0\n",
            "Done False\n",
            "\n",
            "Action 0\n",
            "Reward 0\n",
            "Done True\n",
            "\n"
          ]
        },
        {
          "output_type": "display_data",
          "data": {
            "text/plain": [
              "<Figure size 432x288 with 1 Axes>"
            ],
            "image/png": "[encoded data removed]"
          },
          "metadata": {
            "needs_background": "light"
          }
        }
      ],
      "source": [
        "# Random Agent\n",
        "# Create Environment\n",
        "env = GridEnvironment()\n",
        "\n",
        "# Create random agent\n",
        "agent = RandomAgent(env)\n",
        "obs = env.reset()\n",
        "done = False\n",
        "\n",
        "# Repeat steps of Agent till Episode ends\n",
        "# 0 - Right, 1 - Left, 2 - Up, 3 - Down\n",
        "while not done:\n",
        "    action = agent.step(obs)\n",
        "    obs, actions, reward, done, info = env.step(action)\n",
        "    \n",
        "    print('Action', action)\n",
        "    print('Reward', reward)\n",
        "    print('Done', done)\n",
        "    print()\n",
        "    env.render()\n"
      ]
    },
    {
      "cell_type": "markdown",
      "id": "e9b05038",
      "metadata": {
        "id": "e9b05038"
      },
      "source": [
        "0 -> Down <br>\n",
        "1 -> Up <br>\n",
        "2 -> Right <br>\n",
        "3 -> Left"
      ]
    },
    {
      "cell_type": "code",
      "execution_count": null,
      "id": "f5e2533e",
      "metadata": {
        "id": "f5e2533e"
      },
      "outputs": [],
      "source": []
    },
    {
      "cell_type": "code",
      "source": [],
      "metadata": {
        "id": "4-GS-cKCTfBQ"
      },
      "id": "4-GS-cKCTfBQ",
      "execution_count": null,
      "outputs": []
    },
    {
      "cell_type": "code",
      "source": [],
      "metadata": {
        "id": "3-MwXbRftWIH"
      },
      "id": "3-MwXbRftWIH",
      "execution_count": null,
      "outputs": []
    }
  ],
  "metadata": {
    "kernelspec": {
      "display_name": "Python 3 (ipykernel)",
      "language": "python",
      "name": "python3"
    },
    "language_info": {
      "codemirror_mode": {
        "name": "ipython",
        "version": 3
      },
      "file_extension": ".py",
      "mimetype": "text/x-python",
      "name": "python",
      "nbconvert_exporter": "python",
      "pygments_lexer": "ipython3",
      "version": "3.9.7"
    },
    "colab": {
      "provenance": [],
      "collapsed_sections": []
    }
  },
  "nbformat": 4,
  "nbformat_minor": 5
}